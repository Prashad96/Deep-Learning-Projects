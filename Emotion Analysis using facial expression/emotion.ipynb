{
  "cells": [
    {
      "cell_type": "markdown",
      "metadata": {
        "id": "view-in-github",
        "colab_type": "text"
      },
      "source": [
        "<a href=\"https://colab.research.google.com/github/Prashad96/Deep-Learning-Projects/blob/main/Emotion%20Analysis%20using%20facial%20expression/emotion.ipynb\" target=\"_parent\"><img src=\"https://colab.research.google.com/assets/colab-badge.svg\" alt=\"Open In Colab\"/></a>"
      ]
    },
    {
      "cell_type": "markdown",
      "source": [
        "#**EMOTIONAL ANALYTICS IN AI**"
      ],
      "metadata": {
        "id": "yv1wMoUVaPfV"
      }
    },
    {
      "cell_type": "markdown",
      "source": [
        "#**EMOTION ANALYSIS FROM AN IMAGE BY USING FACIAL EXPRESSION**"
      ],
      "metadata": {
        "id": "ZLSwthzBxjFy"
      }
    },
    {
      "cell_type": "markdown",
      "source": [
        "# Aim"
      ],
      "metadata": {
        "id": "5VbyVzjKbA7M"
      }
    },
    {
      "cell_type": "markdown",
      "source": [
        "To Develop, train and test a VGG16 Network MODEL on the FER2013 dataset to predict the facial emotions from the images of facial emotions."
      ],
      "metadata": {
        "id": "fA4DHK1bbHab"
      }
    },
    {
      "cell_type": "markdown",
      "source": [
        "## Objective\n",
        "- To load the FER2013 Dataset as a CSV file using pandas.\n",
        "- To Create a Data Pipeline using Tensorflow on the dataframe.\n",
        "- To Split the dataset into train, validation, and test sets.\n",
        "- To Preprocess the dataset inorder to transform the images in the specified shape and to encode the class labels using one hot encoding.\n",
        "- To Visualize few samples from the dataset.\n",
        "- To Import VGG16 pre-trained model using Keras API in tensorflow.\n",
        "- To Perform both Tranfer Learning and Fine-Tuning method\n",
        "- To Evaluate the model and save the model.\n",
        "\n",
        "\n",
        "---\n",
        "\n",
        "\n"
      ],
      "metadata": {
        "id": "9zc_6VtrbcSL"
      }
    },
    {
      "cell_type": "markdown",
      "source": [
        "# About VGG16 Model"
      ],
      "metadata": {
        "id": "G0vSRI3NcUs7"
      }
    },
    {
      "cell_type": "markdown",
      "source": [
        "*   VGG-16 is a convolutional neural network that is 16 layers deep.\n",
        "   You can load a pretrained version of the network trained on more than a million images from the ImageNet database. \n",
        "*   VGG16 was used to win **ILSVR(Imagenet) competition** in 2014. It is considered to be one of the excellent vision model architecture till date.\n",
        "*    Most unique thing about VGG16 is that instead of having a large number of hyper-parameter they focused on having convolution layers of 3x3 filter with a stride 1 and always used **same padding** and **maxpool layer of 2x2 filter of stride 2.**\n",
        "*   It follows this arrangement of convolution and max pool layers consistently throughout the whole architecture. In the end it has 2 FC(fully connected layers) followed by a softmax for output.\n",
        "*   The 16 in VGG16 refers to it has 16 layers that have weights. This network is a pretty large network and it has about ***138 million*** (approx) parameters.\n",
        "*    The pretrained network can classify images into 1000 object categories, such as keyboard, mouse, pencil, and many animals.\n",
        "\n",
        "\n",
        "---\n",
        "\n",
        "\n",
        "\n"
      ],
      "metadata": {
        "id": "gD_dduftchmS"
      }
    },
    {
      "cell_type": "markdown",
      "source": [
        "#Methodology "
      ],
      "metadata": {
        "id": "WAB8aM0VN_Dp"
      }
    },
    {
      "cell_type": "markdown",
      "source": [
        "# 1. Transfer Learning\n",
        "\n",
        "*   Transfer learning (TL) is a research problem in machine learning (ML) that focuses on storing knowledge gained while solving one problem and applying it to a different but related problem. For example, knowledge gained while learning to recognize cars could apply when trying to recognize trucks.\n",
        "\n",
        "# Reference about Transfer Learning\n",
        "\n",
        "[Transfer learning using VGG-16 with Deep Convolutional Neural Network for Classifying Images](https://www.researchgate.net/profile/Srikanth-Tammina/publication/337105858_Transfer_learning_using_VGG-16_with_Deep_Convolutional_Neural_Network_for_Classifying_Images/links/5dc94c3ca6fdcc57503e6ad9/Transfer-learning-using-VGG-16-with-Deep-Convolutional-Neural-Network-for-Classifying-Images.pdf)\n",
        "\n",
        "\n",
        "---\n",
        "\n",
        "\n",
        "# 2. Fine-Tuning\n",
        "\n",
        "*   Unfreezing a few of the top layers of a frozen model base and jointly train both the newly-added classifier layers and the last layers of the base model. This allows us to \"fine-tune\" the higher-order feature representations in the base model in order to make them more relevant for the specific task.\n",
        "\n",
        "#Reference for Fine-Tuning  \n",
        "[Fine-tuning with Keras and Deep Learning](https://pyimagesearch.com/2019/06/03/fine-tuning-with-keras-and-deep-learning/)\n",
        "\n",
        "---\n",
        "\n"
      ],
      "metadata": {
        "id": "D9g2DWUrOUNa"
      }
    },
    {
      "cell_type": "markdown",
      "source": [
        "# Dataset"
      ],
      "metadata": {
        "id": "g1vFR2DDcrxC"
      }
    },
    {
      "cell_type": "markdown",
      "source": [
        "Dataset url : https://www.kaggle.com/c/challenges-in-representation-learning-facial-expression-recognition-challenge/data\n",
        "\n",
        "The data consists of 48x48 pixel grayscale images of faces. The faces have been automatically registered so that the face is more or less centred and occupies about the same amount of space in each image.\n",
        "\n",
        "The task is to categorize each face based on the emotion shown in the facial expression into one of seven categories (0=Angry, 1=Disgust, 2=Fear, 3=Happy, 4=Sad, 5=Surprise, 6=Neutral). The training set consists of 28,709 examples and the public test set consists of 3,589 examples."
      ],
      "metadata": {
        "id": "By88PPsxctwK"
      }
    },
    {
      "cell_type": "markdown",
      "source": [
        "# Implementing Transfer Learning with Keras\n",
        "\n",
        "\n"
      ],
      "metadata": {
        "id": "ke7RKXKtc6Db"
      }
    },
    {
      "cell_type": "markdown",
      "source": [
        "# Importing modules"
      ],
      "metadata": {
        "id": "9mxA6CNXc_47"
      }
    },
    {
      "cell_type": "code",
      "execution_count": null,
      "metadata": {
        "id": "lyOq5c4OyOOp"
      },
      "outputs": [],
      "source": [
        "import matplotlib.pyplot as plt\n",
        "import tensorflow as tf\n",
        "import pandas as pd \n",
        "from tensorflow import keras\n",
        "from tensorflow.keras import layers\n",
        "from keras.layers import Dense, Flatten,Dropout\n",
        "from keras.models import Model"
      ]
    },
    {
      "cell_type": "markdown",
      "source": [
        "#Downloading the Dataset"
      ],
      "metadata": {
        "id": "JTkRGjvwdK50"
      }
    },
    {
      "cell_type": "code",
      "source": [
        "!gdown 13WrMBoMrjYkGg_TVKNKtJ8xtxoqhJ5qJ"
      ],
      "metadata": {
        "colab": {
          "base_uri": "https://localhost:8080/"
        },
        "id": "GuXSuvQ9HIMy",
        "outputId": "c22f93e2-72b5-4972-ad2e-4d8817baf31b"
      },
      "execution_count": null,
      "outputs": [
        {
          "output_type": "stream",
          "name": "stdout",
          "text": [
            "Downloading...\n",
            "From: https://drive.google.com/uc?id=13WrMBoMrjYkGg_TVKNKtJ8xtxoqhJ5qJ\n",
            "To: /content/fer2013.csv\n",
            "100% 301M/301M [00:01<00:00, 158MB/s]\n"
          ]
        }
      ]
    },
    {
      "cell_type": "markdown",
      "source": [
        "#Loading the Dataset"
      ],
      "metadata": {
        "id": "6JhUYre7dxsM"
      }
    },
    {
      "cell_type": "code",
      "source": [
        "df = pd.read_csv(\"fer2013.csv\")"
      ],
      "metadata": {
        "id": "0thnxjSnHuJZ"
      },
      "execution_count": null,
      "outputs": []
    },
    {
      "cell_type": "code",
      "source": [
        "df.head()"
      ],
      "metadata": {
        "colab": {
          "base_uri": "https://localhost:8080/",
          "height": 206
        },
        "id": "PxQjPwVBH20T",
        "outputId": "ce319e0a-8c2e-4955-f125-873e559a3281"
      },
      "execution_count": null,
      "outputs": [
        {
          "output_type": "execute_result",
          "data": {
            "text/plain": [
              "   emotion                                             pixels     Usage\n",
              "0        0  70 80 82 72 58 58 60 63 54 58 60 48 89 115 121...  Training\n",
              "1        0  151 150 147 155 148 133 111 140 170 174 182 15...  Training\n",
              "2        2  231 212 156 164 174 138 161 173 182 200 106 38...  Training\n",
              "3        4  24 32 36 30 32 23 19 20 30 41 21 22 32 34 21 1...  Training\n",
              "4        6  4 0 0 0 0 0 0 0 0 0 0 0 3 15 23 28 48 50 58 84...  Training"
            ],
            "text/html": [
              "\n",
              "  <div id=\"df-cb62726e-7163-4ca3-9e6a-aa915a23a2ea\">\n",
              "    <div class=\"colab-df-container\">\n",
              "      <div>\n",
              "<style scoped>\n",
              "    .dataframe tbody tr th:only-of-type {\n",
              "        vertical-align: middle;\n",
              "    }\n",
              "\n",
              "    .dataframe tbody tr th {\n",
              "        vertical-align: top;\n",
              "    }\n",
              "\n",
              "    .dataframe thead th {\n",
              "        text-align: right;\n",
              "    }\n",
              "</style>\n",
              "<table border=\"1\" class=\"dataframe\">\n",
              "  <thead>\n",
              "    <tr style=\"text-align: right;\">\n",
              "      <th></th>\n",
              "      <th>emotion</th>\n",
              "      <th>pixels</th>\n",
              "      <th>Usage</th>\n",
              "    </tr>\n",
              "  </thead>\n",
              "  <tbody>\n",
              "    <tr>\n",
              "      <th>0</th>\n",
              "      <td>0</td>\n",
              "      <td>70 80 82 72 58 58 60 63 54 58 60 48 89 115 121...</td>\n",
              "      <td>Training</td>\n",
              "    </tr>\n",
              "    <tr>\n",
              "      <th>1</th>\n",
              "      <td>0</td>\n",
              "      <td>151 150 147 155 148 133 111 140 170 174 182 15...</td>\n",
              "      <td>Training</td>\n",
              "    </tr>\n",
              "    <tr>\n",
              "      <th>2</th>\n",
              "      <td>2</td>\n",
              "      <td>231 212 156 164 174 138 161 173 182 200 106 38...</td>\n",
              "      <td>Training</td>\n",
              "    </tr>\n",
              "    <tr>\n",
              "      <th>3</th>\n",
              "      <td>4</td>\n",
              "      <td>24 32 36 30 32 23 19 20 30 41 21 22 32 34 21 1...</td>\n",
              "      <td>Training</td>\n",
              "    </tr>\n",
              "    <tr>\n",
              "      <th>4</th>\n",
              "      <td>6</td>\n",
              "      <td>4 0 0 0 0 0 0 0 0 0 0 0 3 15 23 28 48 50 58 84...</td>\n",
              "      <td>Training</td>\n",
              "    </tr>\n",
              "  </tbody>\n",
              "</table>\n",
              "</div>\n",
              "      <button class=\"colab-df-convert\" onclick=\"convertToInteractive('df-cb62726e-7163-4ca3-9e6a-aa915a23a2ea')\"\n",
              "              title=\"Convert this dataframe to an interactive table.\"\n",
              "              style=\"display:none;\">\n",
              "        \n",
              "  <svg xmlns=\"http://www.w3.org/2000/svg\" height=\"24px\"viewBox=\"0 0 24 24\"\n",
              "       width=\"24px\">\n",
              "    <path d=\"M0 0h24v24H0V0z\" fill=\"none\"/>\n",
              "    <path d=\"M18.56 5.44l.94 2.06.94-2.06 2.06-.94-2.06-.94-.94-2.06-.94 2.06-2.06.94zm-11 1L8.5 8.5l.94-2.06 2.06-.94-2.06-.94L8.5 2.5l-.94 2.06-2.06.94zm10 10l.94 2.06.94-2.06 2.06-.94-2.06-.94-.94-2.06-.94 2.06-2.06.94z\"/><path d=\"M17.41 7.96l-1.37-1.37c-.4-.4-.92-.59-1.43-.59-.52 0-1.04.2-1.43.59L10.3 9.45l-7.72 7.72c-.78.78-.78 2.05 0 2.83L4 21.41c.39.39.9.59 1.41.59.51 0 1.02-.2 1.41-.59l7.78-7.78 2.81-2.81c.8-.78.8-2.07 0-2.86zM5.41 20L4 18.59l7.72-7.72 1.47 1.35L5.41 20z\"/>\n",
              "  </svg>\n",
              "      </button>\n",
              "      \n",
              "  <style>\n",
              "    .colab-df-container {\n",
              "      display:flex;\n",
              "      flex-wrap:wrap;\n",
              "      gap: 12px;\n",
              "    }\n",
              "\n",
              "    .colab-df-convert {\n",
              "      background-color: #E8F0FE;\n",
              "      border: none;\n",
              "      border-radius: 50%;\n",
              "      cursor: pointer;\n",
              "      display: none;\n",
              "      fill: #1967D2;\n",
              "      height: 32px;\n",
              "      padding: 0 0 0 0;\n",
              "      width: 32px;\n",
              "    }\n",
              "\n",
              "    .colab-df-convert:hover {\n",
              "      background-color: #E2EBFA;\n",
              "      box-shadow: 0px 1px 2px rgba(60, 64, 67, 0.3), 0px 1px 3px 1px rgba(60, 64, 67, 0.15);\n",
              "      fill: #174EA6;\n",
              "    }\n",
              "\n",
              "    [theme=dark] .colab-df-convert {\n",
              "      background-color: #3B4455;\n",
              "      fill: #D2E3FC;\n",
              "    }\n",
              "\n",
              "    [theme=dark] .colab-df-convert:hover {\n",
              "      background-color: #434B5C;\n",
              "      box-shadow: 0px 1px 3px 1px rgba(0, 0, 0, 0.15);\n",
              "      filter: drop-shadow(0px 1px 2px rgba(0, 0, 0, 0.3));\n",
              "      fill: #FFFFFF;\n",
              "    }\n",
              "  </style>\n",
              "\n",
              "      <script>\n",
              "        const buttonEl =\n",
              "          document.querySelector('#df-cb62726e-7163-4ca3-9e6a-aa915a23a2ea button.colab-df-convert');\n",
              "        buttonEl.style.display =\n",
              "          google.colab.kernel.accessAllowed ? 'block' : 'none';\n",
              "\n",
              "        async function convertToInteractive(key) {\n",
              "          const element = document.querySelector('#df-cb62726e-7163-4ca3-9e6a-aa915a23a2ea');\n",
              "          const dataTable =\n",
              "            await google.colab.kernel.invokeFunction('convertToInteractive',\n",
              "                                                     [key], {});\n",
              "          if (!dataTable) return;\n",
              "\n",
              "          const docLinkHtml = 'Like what you see? Visit the ' +\n",
              "            '<a target=\"_blank\" href=https://colab.research.google.com/notebooks/data_table.ipynb>data table notebook</a>'\n",
              "            + ' to learn more about interactive tables.';\n",
              "          element.innerHTML = '';\n",
              "          dataTable['output_type'] = 'display_data';\n",
              "          await google.colab.output.renderOutput(dataTable, element);\n",
              "          const docLink = document.createElement('div');\n",
              "          docLink.innerHTML = docLinkHtml;\n",
              "          element.appendChild(docLink);\n",
              "        }\n",
              "      </script>\n",
              "    </div>\n",
              "  </div>\n",
              "  "
            ]
          },
          "metadata": {},
          "execution_count": 55
        }
      ]
    },
    {
      "cell_type": "markdown",
      "source": [
        "#Preprocessing the Dataset"
      ],
      "metadata": {
        "id": "scYWEoo9dorD"
      }
    },
    {
      "cell_type": "code",
      "source": [
        "def preprocess(x):\n",
        "    \n",
        "    return (\n",
        "        tf.repeat(tf.reshape(tf.strings.to_number(tf.strings.split(x[\"pixels\"]),\"float64\")/255,(48,48,1)),3,axis=-1),\n",
        "        tf.one_hot(x[\"emotion\"],7,dtype=\"int32\")\n",
        "    )"
      ],
      "metadata": {
        "id": "5repgZieJcNO"
      },
      "execution_count": null,
      "outputs": []
    },
    {
      "cell_type": "markdown",
      "source": [
        "# Creating data pipeline"
      ],
      "metadata": {
        "id": "s14TMMrVeA02"
      }
    },
    {
      "cell_type": "code",
      "source": [
        "ds = tf.data.Dataset.from_tensor_slices(dict(df))"
      ],
      "metadata": {
        "id": "ueUTZu3eKg_q"
      },
      "execution_count": null,
      "outputs": []
    },
    {
      "cell_type": "code",
      "source": [
        "train_ds = ds.filter(lambda x :x[\"Usage\"]==\"Training\").map(preprocess).batch(512).prefetch(tf.data.AUTOTUNE).cache()\n",
        "val_ds = ds.filter(lambda x :x[\"Usage\"]==\"PublicTest\").map(preprocess).batch(512).prefetch(tf.data.AUTOTUNE).cache()\n",
        "test_ds = ds.filter(lambda x :x[\"Usage\"]==\"PrivateTest\").map(preprocess).batch(512).prefetch(tf.data.AUTOTUNE).cache()"
      ],
      "metadata": {
        "id": "hs1iM6ZJKjzT"
      },
      "execution_count": null,
      "outputs": []
    },
    {
      "cell_type": "code",
      "source": [
        "train_ds"
      ],
      "metadata": {
        "colab": {
          "base_uri": "https://localhost:8080/"
        },
        "id": "snmQgpTfMbin",
        "outputId": "c7c3c911-fc6b-4c52-93fc-dc05d8ba313c"
      },
      "execution_count": null,
      "outputs": [
        {
          "output_type": "execute_result",
          "data": {
            "text/plain": [
              "<CacheDataset element_spec=(TensorSpec(shape=(None, 48, 48, 3), dtype=tf.float64, name=None), TensorSpec(shape=(None, 7), dtype=tf.int32, name=None))>"
            ]
          },
          "metadata": {},
          "execution_count": 59
        }
      ]
    },
    {
      "cell_type": "markdown",
      "source": [
        "# Viewing samples from dataset\n"
      ],
      "metadata": {
        "id": "FpyLz17XeGIK"
      }
    },
    {
      "cell_type": "code",
      "source": [
        "emotion_name = [\"Anger\", \"Disgust\",\"Fear\",\"happy\",\"Sad\",\"Suprise\",\"neutral\"]\n",
        "plt.figure(figsize=(15,5))\n",
        "for i,(image,label) in enumerate(train_ds.unbatch().take(10)):\n",
        "    plt.subplot(2,5,i+1)\n",
        "    plt.imshow(tf.squeeze(image),cmap=\"gray\") # squeeze to 2d\n",
        "    plt.title(emotion_name[int(tf.argmax(label))])\n",
        "plt.tight_layout()"
      ],
      "metadata": {
        "colab": {
          "base_uri": "https://localhost:8080/",
          "height": 369
        },
        "id": "kMGGHyiOM8VS",
        "outputId": "3093a15e-c934-4e98-fb77-83b60aeec75f"
      },
      "execution_count": null,
      "outputs": [
        {
          "output_type": "display_data",
          "data": {
            "text/plain": [
              "<Figure size 1080x360 with 10 Axes>"
            ],
            "image/png": "[encoded data removed]"
          },
          "metadata": {
            "needs_background": "light"
          }
        }
      ]
    },
    {
      "cell_type": "markdown",
      "source": [
        "# Importing the Model"
      ],
      "metadata": {
        "id": "MS0vn32seOMk"
      }
    },
    {
      "cell_type": "code",
      "source": [
        "from tensorflow.keras.applications import VGG16\n",
        "vgg = VGG16(weights=\"imagenet\", include_top=False, input_shape=(48,48,3))"
      ],
      "metadata": {
        "id": "8G5-6ytKBXBq",
        "colab": {
          "base_uri": "https://localhost:8080/"
        },
        "outputId": "4fadf65e-aafd-43ca-d6ec-7a18d35a76a3"
      },
      "execution_count": null,
      "outputs": [
        {
          "output_type": "stream",
          "name": "stdout",
          "text": [
            "Downloading data from https://storage.googleapis.com/tensorflow/keras-applications/vgg16/vgg16_weights_tf_dim_ordering_tf_kernels_notop.h5\n",
            "58892288/58889256 [==============================] - 0s 0us/step\n",
            "58900480/58889256 [==============================] - 0s 0us/step\n"
          ]
        }
      ]
    },
    {
      "cell_type": "markdown",
      "source": [
        "#Training the model by Transfer Learning method"
      ],
      "metadata": {
        "id": "YW8EAWSdoqEp"
      }
    },
    {
      "cell_type": "code",
      "source": [
        "#Freeze all layers\n",
        "for layer in vgg.layers:\n",
        "  layer.trainable = False\n",
        "x = Flatten()(vgg.output)\n",
        "\n",
        "x = Dense(256, activation='relu')(x)\n",
        "\n",
        "x = Dense(128, activation='relu')(x)\n",
        "Dropout(0.5)(x)\n",
        "x = Dense(64, activation='relu')(x)\n",
        "Dropout(0.5)(x)\n",
        "x = Dense(32, activation='relu')(x)\n",
        "Dropout(0.5)(x)\n",
        "prediction = Dense(7, activation='softmax')(x)\n",
        "\n",
        "# create a model object\n",
        "model = Model(inputs=vgg.input, outputs=prediction)\n",
        "\n",
        "# view the structure of the model\n",
        "model.summary()"
      ],
      "metadata": {
        "colab": {
          "base_uri": "https://localhost:8080/"
        },
        "id": "Lu4x_p7WFqtb",
        "outputId": "6451e3c7-5b6c-45d4-9590-5c81f3e11322"
      },
      "execution_count": null,
      "outputs": [
        {
          "output_type": "stream",
          "name": "stdout",
          "text": [
            "Model: \"model\"\n",
            "_________________________________________________________________\n",
            " Layer (type)                Output Shape              Param #   \n",
            "=================================================================\n",
            " input_1 (InputLayer)        [(None, 48, 48, 3)]       0         \n",
            "                                                                 \n",
            " block1_conv1 (Conv2D)       (None, 48, 48, 64)        1792      \n",
            "                                                                 \n",
            " block1_conv2 (Conv2D)       (None, 48, 48, 64)        36928     \n",
            "                                                                 \n",
            " block1_pool (MaxPooling2D)  (None, 24, 24, 64)        0         \n",
            "                                                                 \n",
            " block2_conv1 (Conv2D)       (None, 24, 24, 128)       73856     \n",
            "                                                                 \n",
            " block2_conv2 (Conv2D)       (None, 24, 24, 128)       147584    \n",
            "                                                                 \n",
            " block2_pool (MaxPooling2D)  (None, 12, 12, 128)       0         \n",
            "                                                                 \n",
            " block3_conv1 (Conv2D)       (None, 12, 12, 256)       295168    \n",
            "                                                                 \n",
            " block3_conv2 (Conv2D)       (None, 12, 12, 256)       590080    \n",
            "                                                                 \n",
            " block3_conv3 (Conv2D)       (None, 12, 12, 256)       590080    \n",
            "                                                                 \n",
            " block3_pool (MaxPooling2D)  (None, 6, 6, 256)         0         \n",
            "                                                                 \n",
            " block4_conv1 (Conv2D)       (None, 6, 6, 512)         1180160   \n",
            "                                                                 \n",
            " block4_conv2 (Conv2D)       (None, 6, 6, 512)         2359808   \n",
            "                                                                 \n",
            " block4_conv3 (Conv2D)       (None, 6, 6, 512)         2359808   \n",
            "                                                                 \n",
            " block4_pool (MaxPooling2D)  (None, 3, 3, 512)         0         \n",
            "                                                                 \n",
            " block5_conv1 (Conv2D)       (None, 3, 3, 512)         2359808   \n",
            "                                                                 \n",
            " block5_conv2 (Conv2D)       (None, 3, 3, 512)         2359808   \n",
            "                                                                 \n",
            " block5_conv3 (Conv2D)       (None, 3, 3, 512)         2359808   \n",
            "                                                                 \n",
            " block5_pool (MaxPooling2D)  (None, 1, 1, 512)         0         \n",
            "                                                                 \n",
            " flatten (Flatten)           (None, 512)               0         \n",
            "                                                                 \n",
            " dense (Dense)               (None, 256)               131328    \n",
            "                                                                 \n",
            " dense_1 (Dense)             (None, 128)               32896     \n",
            "                                                                 \n",
            " dense_2 (Dense)             (None, 64)                8256      \n",
            "                                                                 \n",
            " dense_3 (Dense)             (None, 32)                2080      \n",
            "                                                                 \n",
            " dense_4 (Dense)             (None, 7)                 231       \n",
            "                                                                 \n",
            "=================================================================\n",
            "Total params: 14,889,479\n",
            "Trainable params: 174,791\n",
            "Non-trainable params: 14,714,688\n",
            "_________________________________________________________________\n"
          ]
        }
      ]
    },
    {
      "cell_type": "code",
      "source": [
        "model.compile(\n",
        "  loss='categorical_crossentropy',\n",
        "  optimizer='adam',\n",
        "  metrics=['accuracy']\n",
        ")"
      ],
      "metadata": {
        "id": "FjGEJuBhGKsC"
      },
      "execution_count": null,
      "outputs": []
    },
    {
      "cell_type": "code",
      "source": [
        "history=model.fit(train_ds,validation_data = val_ds,epochs=20,\n",
        "    callbacks=[\n",
        "        tf.keras.callbacks.EarlyStopping(monitor=\"val_loss\",patience=5,restore_best_weights=True)])"
      ],
      "metadata": {
        "colab": {
          "base_uri": "https://localhost:8080/"
        },
        "id": "BhMBLzsWGDdl",
        "outputId": "2935eadf-c835-4e18-808d-eaa0beff739c"
      },
      "execution_count": null,
      "outputs": [
        {
          "output_type": "stream",
          "name": "stdout",
          "text": [
            "Epoch 1/20\n",
            "57/57 [==============================] - 39s 366ms/step - loss: 1.7202 - accuracy: 0.3037 - val_loss: 1.6218 - val_accuracy: 0.3656\n",
            "Epoch 2/20\n",
            "57/57 [==============================] - 8s 148ms/step - loss: 1.5907 - accuracy: 0.3777 - val_loss: 1.5814 - val_accuracy: 0.3898\n",
            "Epoch 3/20\n",
            "57/57 [==============================] - 9s 152ms/step - loss: 1.5422 - accuracy: 0.4045 - val_loss: 1.5549 - val_accuracy: 0.3951\n",
            "Epoch 4/20\n",
            "57/57 [==============================] - 9s 156ms/step - loss: 1.5108 - accuracy: 0.4192 - val_loss: 1.5450 - val_accuracy: 0.4007\n",
            "Epoch 5/20\n",
            "57/57 [==============================] - 9s 158ms/step - loss: 1.4828 - accuracy: 0.4337 - val_loss: 1.5368 - val_accuracy: 0.4076\n",
            "Epoch 6/20\n",
            "57/57 [==============================] - 9s 160ms/step - loss: 1.4574 - accuracy: 0.4463 - val_loss: 1.5434 - val_accuracy: 0.4087\n",
            "Epoch 7/20\n",
            "57/57 [==============================] - 9s 151ms/step - loss: 1.4292 - accuracy: 0.4581 - val_loss: 1.5404 - val_accuracy: 0.4093\n",
            "Epoch 8/20\n",
            "57/57 [==============================] - 8s 149ms/step - loss: 1.4006 - accuracy: 0.4705 - val_loss: 1.5378 - val_accuracy: 0.4207\n",
            "Epoch 9/20\n",
            "57/57 [==============================] - 8s 148ms/step - loss: 1.3712 - accuracy: 0.4832 - val_loss: 1.5576 - val_accuracy: 0.4166\n",
            "Epoch 10/20\n",
            "57/57 [==============================] - 8s 149ms/step - loss: 1.3428 - accuracy: 0.4960 - val_loss: 1.5742 - val_accuracy: 0.4146\n"
          ]
        }
      ]
    },
    {
      "cell_type": "markdown",
      "source": [
        "# Testing the model"
      ],
      "metadata": {
        "id": "V1Xnu3Att7SQ"
      }
    },
    {
      "cell_type": "code",
      "source": [
        "loss, accuracy = model.evaluate(test_ds)\n",
        "print(\"Loss :\", loss)\n",
        "print(\"Accuracy : \",accuracy)"
      ],
      "metadata": {
        "colab": {
          "base_uri": "https://localhost:8080/"
        },
        "id": "IOoc7O9FSCZc",
        "outputId": "f623b398-fb3c-4789-8da2-3b1f7da6c5ab"
      },
      "execution_count": null,
      "outputs": [
        {
          "output_type": "stream",
          "name": "stdout",
          "text": [
            "8/8 [==============================] - 2s 141ms/step - loss: 1.5088 - accuracy: 0.4129\n",
            "Loss : 1.5087870359420776\n",
            "Accuracy :  0.41292840242385864\n"
          ]
        }
      ]
    },
    {
      "cell_type": "markdown",
      "source": [
        "#Saving the Model"
      ],
      "metadata": {
        "id": "il3ffeHYevV9"
      }
    },
    {
      "cell_type": "code",
      "source": [
        "#Saving the  model to  use it later on\n",
        "fer_json = model.to_json()\n",
        "with open(\"fer.json\", \"w\") as json_file:\n",
        "    json_file.write(fer_json)\n",
        "model.save_weights(\"fer.h5\")"
      ],
      "metadata": {
        "id": "Wvz0UKx4cGz3"
      },
      "execution_count": null,
      "outputs": []
    },
    {
      "cell_type": "markdown",
      "source": [
        "## Result for Tansfer Learning"
      ],
      "metadata": {
        "id": "T17ESGSUSJDe"
      }
    },
    {
      "cell_type": "markdown",
      "source": [
        "Thus vgg16 models were trained using the pretrained hyperparameters and the results were found as follows:\n",
        "\n",
        "|Dataset|Accuracy|\n",
        "|-|-|\n",
        "|*Training Set*|0.4960|\n",
        "|*Validation Set*|0.4146|\n",
        "|*Test Set*|0.4129|\n",
        "\n",
        "\n",
        "---\n",
        "\n"
      ],
      "metadata": {
        "id": "1UuCBckjSK7W"
      }
    },
    {
      "cell_type": "markdown",
      "source": [
        "# Fine Tuning "
      ],
      "metadata": {
        "id": "FBy_BrkkhZyF"
      }
    },
    {
      "cell_type": "markdown",
      "source": [
        "#Implementing Fine-Tuning with Keras\n"
      ],
      "metadata": {
        "id": "rRh7L6YYj6ud"
      }
    },
    {
      "cell_type": "markdown",
      "source": [
        "# Importing VGG16 Model"
      ],
      "metadata": {
        "id": "FDBR790XkQMc"
      }
    },
    {
      "cell_type": "code",
      "source": [
        "from tensorflow.keras.applications import VGG16\n",
        "vgg = VGG16(weights=\"imagenet\", include_top=False, input_shape=(48,48,3))"
      ],
      "metadata": {
        "id": "dV8YxzAzWwVz"
      },
      "execution_count": null,
      "outputs": []
    },
    {
      "cell_type": "code",
      "source": [
        "#Freeze all layers except last 5 layers\n",
        "for layer in vgg.layers[:-5]:\n",
        "  layer.trainable = False\n"
      ],
      "metadata": {
        "id": "l71gzxtNcAOJ"
      },
      "execution_count": null,
      "outputs": []
    },
    {
      "cell_type": "code",
      "source": [
        "x = Flatten()(vgg.output)\n",
        "\n",
        "x = Dense(256, activation='relu')(x)\n",
        "\n",
        "x = Dense(128, activation='relu')(x)\n",
        "Dropout(0.5)(x)\n",
        "x = Dense(64, activation='relu')(x)\n",
        "Dropout(0.5)(x)\n",
        "x = Dense(32, activation='relu')(x)\n",
        "Dropout(0.5)(x)\n",
        "prediction = Dense(7, activation='softmax')(x)\n",
        "\n",
        "# create a model object\n",
        "model = Model(inputs=vgg.input, outputs=prediction)\n",
        "\n",
        "# view the structure of the model\n",
        "model.summary()"
      ],
      "metadata": {
        "colab": {
          "base_uri": "https://localhost:8080/"
        },
        "id": "KrdhoBDjbUQJ",
        "outputId": "e2417c25-5690-4fab-ffe0-f6846651c40f"
      },
      "execution_count": null,
      "outputs": [
        {
          "output_type": "stream",
          "name": "stdout",
          "text": [
            "Model: \"model_7\"\n",
            "_________________________________________________________________\n",
            " Layer (type)                Output Shape              Param #   \n",
            "=================================================================\n",
            " input_7 (InputLayer)        [(None, 48, 48, 3)]       0         \n",
            "                                                                 \n",
            " block1_conv1 (Conv2D)       (None, 48, 48, 64)        1792      \n",
            "                                                                 \n",
            " block1_conv2 (Conv2D)       (None, 48, 48, 64)        36928     \n",
            "                                                                 \n",
            " block1_pool (MaxPooling2D)  (None, 24, 24, 64)        0         \n",
            "                                                                 \n",
            " block2_conv1 (Conv2D)       (None, 24, 24, 128)       73856     \n",
            "                                                                 \n",
            " block2_conv2 (Conv2D)       (None, 24, 24, 128)       147584    \n",
            "                                                                 \n",
            " block2_pool (MaxPooling2D)  (None, 12, 12, 128)       0         \n",
            "                                                                 \n",
            " block3_conv1 (Conv2D)       (None, 12, 12, 256)       295168    \n",
            "                                                                 \n",
            " block3_conv2 (Conv2D)       (None, 12, 12, 256)       590080    \n",
            "                                                                 \n",
            " block3_conv3 (Conv2D)       (None, 12, 12, 256)       590080    \n",
            "                                                                 \n",
            " block3_pool (MaxPooling2D)  (None, 6, 6, 256)         0         \n",
            "                                                                 \n",
            " block4_conv1 (Conv2D)       (None, 6, 6, 512)         1180160   \n",
            "                                                                 \n",
            " block4_conv2 (Conv2D)       (None, 6, 6, 512)         2359808   \n",
            "                                                                 \n",
            " block4_conv3 (Conv2D)       (None, 6, 6, 512)         2359808   \n",
            "                                                                 \n",
            " block4_pool (MaxPooling2D)  (None, 3, 3, 512)         0         \n",
            "                                                                 \n",
            " block5_conv1 (Conv2D)       (None, 3, 3, 512)         2359808   \n",
            "                                                                 \n",
            " block5_conv2 (Conv2D)       (None, 3, 3, 512)         2359808   \n",
            "                                                                 \n",
            " block5_conv3 (Conv2D)       (None, 3, 3, 512)         2359808   \n",
            "                                                                 \n",
            " block5_pool (MaxPooling2D)  (None, 1, 1, 512)         0         \n",
            "                                                                 \n",
            " flatten_7 (Flatten)         (None, 512)               0         \n",
            "                                                                 \n",
            " dense_35 (Dense)            (None, 256)               131328    \n",
            "                                                                 \n",
            " dense_36 (Dense)            (None, 128)               32896     \n",
            "                                                                 \n",
            " dense_37 (Dense)            (None, 64)                8256      \n",
            "                                                                 \n",
            " dense_38 (Dense)            (None, 32)                2080      \n",
            "                                                                 \n",
            " dense_39 (Dense)            (None, 7)                 231       \n",
            "                                                                 \n",
            "=================================================================\n",
            "Total params: 14,889,479\n",
            "Trainable params: 7,254,215\n",
            "Non-trainable params: 7,635,264\n",
            "_________________________________________________________________\n"
          ]
        }
      ]
    },
    {
      "cell_type": "code",
      "source": [
        "model.compile(\n",
        "  loss='categorical_crossentropy',\n",
        "  optimizer='adam',\n",
        "  metrics=['accuracy']\n",
        ")"
      ],
      "metadata": {
        "id": "Tdqdif50Y5az"
      },
      "execution_count": null,
      "outputs": []
    },
    {
      "cell_type": "code",
      "source": [
        "history=model.fit(train_ds,validation_data = val_ds,epochs=20,\n",
        "    callbacks=[\n",
        "        tf.keras.callbacks.EarlyStopping(monitor=\"val_loss\",patience=8,restore_best_weights=True)])"
      ],
      "metadata": {
        "colab": {
          "base_uri": "https://localhost:8080/"
        },
        "id": "NJURWoANZqqq",
        "outputId": "703a4545-6263-4f89-9fbd-a69ab59fd949"
      },
      "execution_count": null,
      "outputs": [
        {
          "output_type": "stream",
          "name": "stdout",
          "text": [
            "Epoch 1/20\n",
            "57/57 [==============================] - 12s 197ms/step - loss: 1.1909 - accuracy: 0.5507 - val_loss: 1.3090 - val_accuracy: 0.5074\n",
            "Epoch 2/20\n",
            "57/57 [==============================] - 11s 189ms/step - loss: 1.1196 - accuracy: 0.5822 - val_loss: 1.4035 - val_accuracy: 0.4946\n",
            "Epoch 3/20\n",
            "57/57 [==============================] - 11s 191ms/step - loss: 1.0568 - accuracy: 0.6086 - val_loss: 1.4386 - val_accuracy: 0.4823\n",
            "Epoch 4/20\n",
            "57/57 [==============================] - 11s 188ms/step - loss: 0.9805 - accuracy: 0.6411 - val_loss: 1.3699 - val_accuracy: 0.5277\n",
            "Epoch 5/20\n",
            "57/57 [==============================] - 10s 185ms/step - loss: 0.9394 - accuracy: 0.6585 - val_loss: 1.3726 - val_accuracy: 0.5327\n",
            "Epoch 6/20\n",
            "57/57 [==============================] - 10s 183ms/step - loss: 0.9740 - accuracy: 0.6426 - val_loss: 1.4111 - val_accuracy: 0.5113\n",
            "Epoch 7/20\n",
            "57/57 [==============================] - 11s 196ms/step - loss: 0.9037 - accuracy: 0.6699 - val_loss: 1.4443 - val_accuracy: 0.4987\n",
            "Epoch 8/20\n",
            "57/57 [==============================] - 11s 187ms/step - loss: 0.8243 - accuracy: 0.7043 - val_loss: 1.3662 - val_accuracy: 0.5548\n",
            "Epoch 9/20\n",
            "57/57 [==============================] - 11s 190ms/step - loss: 0.7740 - accuracy: 0.7242 - val_loss: 1.4617 - val_accuracy: 0.5375\n"
          ]
        }
      ]
    },
    {
      "cell_type": "markdown",
      "source": [
        "#Testing the model"
      ],
      "metadata": {
        "id": "8OfPp3DwuAmw"
      }
    },
    {
      "cell_type": "code",
      "source": [
        "loss, accuracy = model.evaluate(test_ds)\n",
        "print(\"Loss :\", loss)\n",
        "print(\"Accuracy : \",accuracy)"
      ],
      "metadata": {
        "colab": {
          "base_uri": "https://localhost:8080/"
        },
        "id": "YWe5XRymZuDL",
        "outputId": "52eab688-a6af-4ca1-c991-868abd1ef689"
      },
      "execution_count": null,
      "outputs": [
        {
          "output_type": "stream",
          "name": "stdout",
          "text": [
            "8/8 [==============================] - 1s 122ms/step - loss: 1.2743 - accuracy: 0.5230\n",
            "Loss : 1.2742772102355957\n",
            "Accuracy :  0.522986888885498\n"
          ]
        }
      ]
    },
    {
      "cell_type": "markdown",
      "source": [
        "#Saving the model"
      ],
      "metadata": {
        "id": "1XMscDDMuDdI"
      }
    },
    {
      "cell_type": "code",
      "source": [
        "#Saving the  model to  use it later on\n",
        "fer_json = model.to_json()\n",
        "with open(\"fer1.json\", \"w\") as json_file:\n",
        "    json_file.write(fer_json)\n",
        "model.save_weights(\"fer1.h5\")"
      ],
      "metadata": {
        "id": "xEfo-clatU8l"
      },
      "execution_count": null,
      "outputs": []
    },
    {
      "cell_type": "markdown",
      "source": [
        "# Result for Fine Tuning"
      ],
      "metadata": {
        "id": "OUnz_uViec7f"
      }
    },
    {
      "cell_type": "markdown",
      "source": [
        "\n",
        "The VGG16 model was trained using Fine Tuning method with 4,894,407 Trainable parameters( Parameters for last 3 VGG Layers)  and the result was found as follows:\n",
        "\n",
        "|Dataset|Accuracy|\n",
        "|-|-|\n",
        "|*Training Set*|0.6162|\n",
        "|*Validation Set*|0.4269|\n",
        "|*Test Set*| 0.4868|\n",
        "\n",
        "---\n",
        "\n",
        "\n",
        "The VGG16 model was trained using Fine Tuning method with **7,079,424 Trainable parameters( Parameters for last 5 VGG Layers) ** and the result was found as follows:\n",
        "\n",
        "|Dataset|Accuracy|\n",
        "|-|-|\n",
        "|*Training Set*|0.7242|\n",
        "|*Validation Set*|0.5375|\n",
        "|*Test Set*|0.5229|\n",
        "\n",
        "\n",
        "---\n",
        "\n"
      ],
      "metadata": {
        "id": "nf0Uql6Xezpg"
      }
    },
    {
      "cell_type": "markdown",
      "source": [
        "# Reference "
      ],
      "metadata": {
        "id": "PNqJQi4wpQRi"
      }
    },
    {
      "cell_type": "markdown",
      "source": [
        "## References:\n",
        "[1] [Implementing Transfer Learning with VGG16](https://github.com/krishnaik06/Transfer-Learning)\n",
        "\n",
        "[2] [Convolutional Neural Network Hyperparameters optimization for Facial Emotion Recognition](https://doi.org/10.1109/ATEE52255.2021.9425073)\n",
        "\n",
        "[3] [Transfer learning using VGG-16 with Deep Convolutional Neural Network for Classifying Images](https://www.researchgate.net/profile/Srikanth-Tammina/publication/337105858_Transfer_learning_using_VGG-16_with_Deep_Convolutional_Neural_Network_for_Classifying_Images/links/5dc94c3ca6fdcc57503e6ad9/Transfer-learning-using-VGG-16-with-Deep-Convolutional-Neural-Network-for-Classifying-Images.pdf)\n",
        "\n",
        "[4] [Convolutional-Neural-Network-Hyperparameters-Optimization-for-Facial-Emotion-Recognition](https://github.com/jiantenggei/Convolutional-Neural-Network-Hyperparameters-Optimization-for-Facial-Emotion-Recognition)\n",
        "\n",
        "[5] [Fine-tuning with Keras and Deep Learning](https://pyimagesearch.com/2019/06/03/fine-tuning-with-keras-and-deep-learning/)\n",
        "\n",
        "\n",
        "---\n",
        "\n"
      ],
      "metadata": {
        "id": "CGxSFds-pTe6"
      }
    },
    {
      "cell_type": "markdown",
      "source": [
        "#Result"
      ],
      "metadata": {
        "id": "nhXztjYpqF1J"
      }
    },
    {
      "cell_type": "markdown",
      "source": [
        "The VGG16 Network MODEL was trained on the FER2013 dataset to predict the facial emotions and the overall Accuracy as follows:\n",
        "\n",
        "|Method | Accuracy|\n",
        "|-|-|\n",
        "|*Transfer Learnig*|0.4129|\n",
        "|*Fine-Tuning*|0.5229|\n",
        "\n",
        "\n",
        "\n",
        "---\n",
        "\n",
        "\n",
        "\n",
        "---\n",
        "\n",
        "\n",
        "\n"
      ],
      "metadata": {
        "id": "wOT3KK2xqIWp"
      }
    }
  ],
  "metadata": {
    "colab": {
      "collapsed_sections": [],
      "name": "06-Prashad_S_P emotion.ipynb",
      "provenance": [],
      "include_colab_link": true
    },
    "kernelspec": {
      "display_name": "Python 3",
      "name": "python3"
    },
    "language_info": {
      "name": "python"
    },
    "accelerator": "GPU"
  },
  "nbformat": 4,
  "nbformat_minor": 0
}